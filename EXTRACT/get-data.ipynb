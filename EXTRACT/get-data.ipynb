{
 "cells": [
  {
   "cell_type": "code",
   "execution_count": 25,
   "id": "1a33d8c1-050d-4add-bf97-39429f42f1c8",
   "metadata": {},
   "outputs": [],
   "source": [
    "import pandas as pd\n",
    "import requests\n"
   ]
  },
  {
   "cell_type": "code",
   "execution_count": 26,
   "id": "a308cba5-5386-4b39-8215-76f0e96cf8f0",
   "metadata": {},
   "outputs": [],
   "source": [
    "def get_data(url,params):\n",
    "    params['file_type'] = 'json'\n",
    "    data = requests.get(url,params=params)\n",
    "    return data.json()\n",
    "\n",
    "import json\n",
    "with open('state_codes.json') as f:\n",
    "    state_codes = json.load(f)\n",
    "\n",
    "with open('../config.json') as f:\n",
    "    json_data= json.load(f)\n",
    "    API_KEY = json_data['api_keys']['fred_api_key']\n",
    "\n",
    "    \n",
    "\n",
    "    "
   ]
  },
  {
   "cell_type": "code",
   "execution_count": 27,
   "id": "fd350b9f-7776-48f9-b9e4-78df123be16f",
   "metadata": {},
   "outputs": [],
   "source": [
    "base_url_search = 'https://api.stlouisfed.org/fred/series/search?'\n",
    "base_url_observations = 'https://api.stlouisfed.org/fred/series/observations?'\n"
   ]
  },
  {
   "cell_type": "markdown",
   "id": "e6121018-7182-4583-a41a-7da80d7cd3e0",
   "metadata": {},
   "source": [
    "#### Population Data"
   ]
  },
  {
   "cell_type": "code",
   "execution_count": 28,
   "id": "438f9796",
   "metadata": {},
   "outputs": [],
   "source": [
    "url = base_url_search.format(api_key=API_KEY)\n",
    "params = {'search_text':f'*UR','search_type':'series_id','tag_names':'state;monthly','file_type':'json','limit':50,\"api_key\":API_KEY}\n",
    "series_data = get_data(url,params)"
   ]
  },
  {
   "cell_type": "code",
   "execution_count": 29,
   "id": "3c268adb",
   "metadata": {},
   "outputs": [],
   "source": [
    "search_id = pd.DataFrame(pd.DataFrame(series_data).seriess.values.tolist()).id.values"
   ]
  },
  {
   "cell_type": "code",
   "execution_count": 30,
   "id": "b9eb4c7c",
   "metadata": {},
   "outputs": [],
   "source": [
    "for series in search_id:\n",
    "    try:\n",
    "        params_obs = {'observation_start':'2010-01-01','observation_end':'2024-01-01','api_key':API_KEY,'series_id':series}\n",
    "        data_obs = get_data(base_url_observations,params_obs)\n",
    "        data_obs = pd.DataFrame(data_obs['observations'])\n",
    "        data_obs['state'] = state_codes[series[:2]]\n",
    "        data_obs['state_code'] = series[:2]\n",
    "        data_obs = data_obs[['date','value','state','state_code']]\n",
    "        data_obs = data_obs.columns.rename({'value':'unemployment_rate'})\n",
    "    except:\n",
    "        pass\n"
   ]
  },
  {
   "cell_type": "markdown",
   "id": "b3cfbc7f-0e65-409c-b320-bd750528bd8f",
   "metadata": {},
   "source": [
    "### Median Household Income"
   ]
  },
  {
   "cell_type": "code",
   "execution_count": 21,
   "id": "a602f6b4-8873-43b7-aca5-0f03dc91ad9e",
   "metadata": {},
   "outputs": [
    {
     "name": "stdout",
     "output_type": "stream",
     "text": [
      "Estimate of Median Household Income for Hillsborough County, FL\n",
      "Estimate of Median Household Income for Pinellas County, FL\n",
      "Estimate of Median Household Income for Pasco County, FL\n",
      "Estimate of Median Household Income for Hernando County, FL\n",
      "Estimate of Median Household Income for Manatee County, FL\n",
      "Estimate of Median Household Income for Sarasota County, FL\n",
      "Estimate of Median Household Income for Polk County, FL\n",
      "Estimate of Median Household Income for Citrus County, FL\n"
     ]
    }
   ],
   "source": [
    "url = base_url_search.format(api_key=API_KEY)\n",
    "\n",
    "path = '../data/median-household-income'\n",
    "id_ = []\n",
    "florida_counties = ['Hillsborough','Pinellas','Pasco','Hernando','Manatee','Sarasota','Polk','Citrus']\n",
    "for county in florida_counties:\n",
    "    params = {'search_text':f'Estimate of Median Household Income for {county} County,FL','tag_names':'county;fl;income;census','file_type':'json','limit':1,\"api_key\":API_KEY}\n",
    "    series_data = get_data(url,params)\n",
    "    series_id   = series_data['seriess'][0]['id']\n",
    "    print(series_data['seriess'][0]['title'])\n",
    "    params_obs = {'observation_start':'2010-01-01','observation_end':'2024-01-01','api_key':API_KEY,'series_id':series_id}\n",
    "    data_obs = get_data(base_url_observations,params_obs)\n",
    "    data_obs = pd.DataFrame(data_obs['observations'])\n",
    "    data_obs.to_csv(f'{path}/FL-{county}-Median-Household-Income.csv',index=False)\n",
    "        \n",
    "# ouput_file = f'FL-{county}-population.csv'\n"
   ]
  },
  {
   "cell_type": "markdown",
   "id": "52657379-0f62-4e54-b567-4adf45c4ab77",
   "metadata": {},
   "source": [
    "### Housing Inventory: Median Listing Price per Square Feet"
   ]
  },
  {
   "cell_type": "code",
   "execution_count": 27,
   "id": "28599812-c280-4176-8b59-431d05a6fa09",
   "metadata": {},
   "outputs": [
    {
     "name": "stdout",
     "output_type": "stream",
     "text": [
      "Housing Inventory: Median Listing Price per Square Feet in Hillsborough County, FL\n",
      "Housing Inventory: Median Listing Price per Square Feet in Pinellas County, FL\n",
      "Housing Inventory: Median Listing Price per Square Feet in Pasco County, FL\n",
      "Housing Inventory: Median Listing Price per Square Feet in Hernando County, FL\n",
      "Housing Inventory: Median Listing Price per Square Feet in Manatee County, FL\n",
      "Housing Inventory: Median Listing Price per Square Feet in Sarasota County, FL\n",
      "Housing Inventory: Median Listing Price per Square Feet in Polk County, FL\n",
      "Housing Inventory: Median Listing Price per Square Feet in Citrus County, FL\n"
     ]
    }
   ],
   "source": [
    "url = base_url_search.format(api_key=API_KEY)\n",
    "\n",
    "path = '../data/median-household-income'\n",
    "id_ = []\n",
    "florida_counties = ['Hillsborough','Pinellas','Pasco','Hernando','Manatee','Sarasota','Polk','Citrus']\n",
    "for county in florida_counties:\n",
    "    params = {'search_text':f'Housing Inventory Median Listing Price per Square Feet in {county} County,FL','tag_names':'county;fl','file_type':'json','limit':1,\"api_key\":API_KEY}\n",
    "    series_data = get_data(url,params)\n",
    "    series_id   = series_data['seriess'][0]['id']\n",
    "    \n",
    "    print(series_data['seriess'][0]['title'])\n",
    "    params_obs = {'observation_start':'2010-01-01','observation_end':'2024-01-01','api_key':API_KEY,'series_id':series_id}\n",
    "    data_obs = get_data(base_url_observations,params_obs)\n",
    "    data_obs = pd.DataFrame(data_obs['observations'])\n",
    "    data_obs.to_csv(f'{path}/FL-{county}-Median-Listing-Price.csv',index=False)\n",
    "        \n",
    "# ouput_file = f'FL-{county}-population.csv'\n"
   ]
  },
  {
   "cell_type": "code",
   "execution_count": null,
   "id": "dc51fb1e-42c5-43e9-8d6b-fc2ac8160a16",
   "metadata": {},
   "outputs": [],
   "source": [
    "All-Transactions House Price Index for Brazoria County, TX\n",
    "\n",
    "Bachelor's Degree or Higher (5-year estimate) in Brazoria County, TX\n",
    "\n",
    "Civilian Labor Force in Brazoria County, TX\n",
    "\n",
    "Combined Violent and Property Crime Offenses Known to Law Enforcement in Brazoria County, TX (DISCONTINUED)\n",
    "\n",
    "Estimated Percent of People Age 0-17 in Poverty for Brazoria County, TX\n",
    "Gross Domestic Product: All Industries in Brazoria County, TX\n",
    "Gross Domestic Product: Government and Government Enterprises in Brazoria County, TX\n",
    "\n",
    "Gross Domestic Product: Private Goods-Producing Industries in Brazoria County, TX\n",
    "Gross Domestic Product: Private Services-Providing Industries in Brazoria County, TX\n",
    "High School Graduate or Higher (5-year estimate) in Brazoria County, TX\n",
    "Homeownership Rate (5-year estimate) for Brazoria County, TX\n",
    "Housing Inventory: Active Listing Count in Brazoria County, TX\n",
    "Housing Inventory: Average Listing Price in Brazoria County, TX\n",
    "Mean Commuting Time for Workers (5-year estimate) in Brazoria County, TX\n",
    "People 25 Years and Over Who Have Completed an Associate's Degree or Higher (5-year estimate) in Brazoria County, TX\n",
    "\n",
    "Per Capita Personal Income in Brazoria County, TX\n",
    "SNAP Benefits Recipients in Brazoria County, TX\n",
    "Unemployment Rate in Brazoria County, TX\n"
   ]
  }
 ],
 "metadata": {
  "kernelspec": {
   "display_name": "Python 3 (ipykernel)",
   "language": "python",
   "name": "python3"
  },
  "language_info": {
   "codemirror_mode": {
    "name": "ipython",
    "version": 3
   },
   "file_extension": ".py",
   "mimetype": "text/x-python",
   "name": "python",
   "nbconvert_exporter": "python",
   "pygments_lexer": "ipython3",
   "version": "3.12.6"
  }
 },
 "nbformat": 4,
 "nbformat_minor": 5
}
